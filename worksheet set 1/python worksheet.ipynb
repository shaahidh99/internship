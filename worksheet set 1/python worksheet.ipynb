{
 "cells": [
  {
   "cell_type": "markdown",
   "id": "a3ce95d0",
   "metadata": {},
   "source": [
    "## 1) finding factorial of a number"
   ]
  },
  {
   "cell_type": "code",
   "execution_count": null,
   "id": "67607d63",
   "metadata": {},
   "outputs": [],
   "source": [
    "num = int(input(\"Enter a number: \"))\n",
    "factorial = 1\n",
    "\n",
    "# check if the number is negative, positive or zero\n",
    "if num < 0:\n",
    "    print(\"Sorry, factorial cannot be caluclated for negative numbers\")\n",
    "elif num == 0:\n",
    "    print(\"The factorial of 0 is 1\")\n",
    "else:\n",
    "     for i in range(1,num + 1):\n",
    "        factorial = factorial*i\n",
    "    \n",
    "     print(\"The factorial of\",num,\"is\",factorial)"
   ]
  },
  {
   "cell_type": "markdown",
   "id": "7b790d85",
   "metadata": {},
   "source": [
    "## 12. Write a python program to find whether a number is prime or composite"
   ]
  },
  {
   "cell_type": "code",
   "execution_count": null,
   "id": "3478062b",
   "metadata": {},
   "outputs": [],
   "source": [
    "n=int(input('Enter the number '))\n",
    "factor=0\n",
    "for i in range(1,n):\n",
    "      if n%i==0:\n",
    "        factor=i\n",
    "if factor>1:\n",
    "      print ('The number is a composite number!')\n",
    "elif n==1:\n",
    "      print ('The number 1 is neither prime nor composite!')\n",
    "else:\n",
    "      print ('This is a prime number!')"
   ]
  },
  {
   "cell_type": "markdown",
   "id": "492932a3",
   "metadata": {},
   "source": [
    "## 13. Write a python program to check whether a given string is palindrome or not."
   ]
  },
  {
   "cell_type": "code",
   "execution_count": 3,
   "id": "41b6d806",
   "metadata": {},
   "outputs": [
    {
     "name": "stdout",
     "output_type": "stream",
     "text": [
      "Enter a string:dog\n",
      "Not a palindrome\n"
     ]
    }
   ],
   "source": [
    "string=input(\"Enter a string:\")\n",
    "if(string==string[::-1]):\n",
    "      print(\"The string is a palindrome\")\n",
    "else:\n",
    "      print(\"Not a palindrome\")"
   ]
  },
  {
   "cell_type": "markdown",
   "id": "4616f994",
   "metadata": {},
   "source": [
    "## 14. Write a Python program to get the third side of right-angled triangle from two given sides.\n"
   ]
  },
  {
   "cell_type": "code",
   "execution_count": 7,
   "id": "d5ad0a4d",
   "metadata": {},
   "outputs": [
    {
     "name": "stdout",
     "output_type": "stream",
     "text": [
      "Hypotenuse = 5.0\n",
      "Adjacent = 4.0\n",
      "Opposite = 3.0\n",
      "Hypotenuse = 5.0\n"
     ]
    }
   ],
   "source": [
    "def pythagoras(opposite_side,adjacent_side,hypotenuse):\n",
    "        if opposite_side == str(\"x\"):\n",
    "            return (\"Opposite = \" + str(((hypotenuse**2) - (adjacent_side**2))**0.5))\n",
    "        elif adjacent_side == str(\"x\"):\n",
    "            return (\"Adjacent = \" + str(((hypotenuse**2) - (opposite_side**2))**0.5))\n",
    "        else: \n",
    "            hypotenuse == str(\"x\")\n",
    "            return (\"Hypotenuse = \" + str(((opposite_side**2) + (adjacent_side**2))**0.5))\n",
    "      \n",
    "print(pythagoras(3,4,'x'))\n",
    "print(pythagoras(3,'x',5))\n",
    "print(pythagoras('x',4,5))\n",
    "print(pythagoras(3,4,5))\n",
    "            "
   ]
  },
  {
   "cell_type": "markdown",
   "id": "d4e62c16",
   "metadata": {},
   "source": [
    "## 15. Write a python program to print the frequency of each of the characters present in a given string"
   ]
  },
  {
   "cell_type": "code",
   "execution_count": 5,
   "id": "7e60f55f",
   "metadata": {},
   "outputs": [
    {
     "name": "stdout",
     "output_type": "stream",
     "text": [
      "enter a string: shaahidh\n",
      "Per char frequency in 'shaahidh' is :\n",
      " {'s': 1, 'h': 3, 'a': 2, 'i': 1, 'd': 1}\n"
     ]
    }
   ],
   "source": [
    "input_string = input('enter a string: ')\n",
    "frequencies = {} \n",
    "  \n",
    "for char in input_string: \n",
    "    if char in frequencies: \n",
    "        frequencies[char] += 1\n",
    "    else: \n",
    "        frequencies[char] = 1\n",
    "print (\"Per char frequency in '{}' is :\\n {}\".format(input_string, str(frequencies)))"
   ]
  }
 ],
 "metadata": {
  "kernelspec": {
   "display_name": "Python 3",
   "language": "python",
   "name": "python3"
  },
  "language_info": {
   "codemirror_mode": {
    "name": "ipython",
    "version": 3
   },
   "file_extension": ".py",
   "mimetype": "text/x-python",
   "name": "python",
   "nbconvert_exporter": "python",
   "pygments_lexer": "ipython3",
   "version": "3.8.8"
  }
 },
 "nbformat": 4,
 "nbformat_minor": 5
}
